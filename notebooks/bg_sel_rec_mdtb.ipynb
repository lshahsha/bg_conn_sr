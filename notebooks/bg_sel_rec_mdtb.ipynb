{
 "cells": [
  {
   "cell_type": "code",
   "execution_count": 1,
   "metadata": {},
   "outputs": [
    {
     "name": "stderr",
     "output_type": "stream",
     "text": [
      "/Users/lshahsha/Documents/GitHub/selective_recruitment/.sr-venv/lib/python3.9/site-packages/urllib3/__init__.py:34: NotOpenSSLWarning: urllib3 v2 only supports OpenSSL 1.1.1+, currently the 'ssl' module is compiled with 'LibreSSL 2.8.3'. See: https://github.com/urllib3/urllib3/issues/3020\n",
      "  warnings.warn(\n",
      "/Users/lshahsha/Documents/GitHub/selective_recruitment/.sr-venv/lib/python3.9/site-packages/torch/__init__.py:614: UserWarning: torch.set_default_tensor_type() is deprecated as of PyTorch 2.1, please use torch.set_default_dtype() and torch.set_default_device() as alternatives. (Triggered internally at /Users/runner/work/pytorch/pytorch/pytorch/torch/csrc/tensor/python_tensor.cpp:453.)\n",
      "  _C._set_default_tensor_type(t)\n"
     ]
    }
   ],
   "source": [
    "from selective_recruitment.plotting import make_scatterplot\n",
    "from selective_recruitment.scripts.script_mapwise import calc_ttest_mean\n",
    "from selective_recruitment.scripts.script_roi_differences import norm_within_category # for results after normalization\n",
    "import selective_recruitment.data as ss\n",
    "import selective_recruitment.regress as ra\n",
    "import selective_recruitment.region as sroi\n",
    "\n",
    "from statsmodels.stats.anova import AnovaRM  # perform F test\n",
    "from scipy.stats import ttest_rel\n",
    "\n",
    "from pathlib import Path\n",
    "import pandas as pd\n",
    "import numpy as np\n",
    "\n",
    "import matplotlib.pyplot as plt"
   ]
  },
  {
   "cell_type": "code",
   "execution_count": 2,
   "metadata": {},
   "outputs": [],
   "source": [
    "# setting working directory\n",
    "wkdir = 'A:\\data\\Cerebellum\\CerebellumWorkingMemory\\selective_recruit'\n",
    "if not Path(wkdir).exists():\n",
    "    wkdir = '/srv/diedrichsen/data/Cerebellum/CerebellumWorkingMemory/selective_recruit'\n",
    "if not Path(wkdir).exists():\n",
    "    wkdir = '/Users/jdiedrichsen/Data/wm_cerebellum/selective_recruit'\n",
    "if not Path(wkdir).exists():\n",
    "    wkdir = '/Volumes/diedrichsen_data$/data/Cerebellum/CerebellumWorkingMemory/selective_recruit'"
   ]
  },
  {
   "cell_type": "markdown",
   "metadata": {},
   "source": [
    "# FS"
   ]
  },
  {
   "cell_type": "code",
   "execution_count": 17,
   "metadata": {},
   "outputs": [],
   "source": [
    "task = 'wm'\n",
    "if task == 'fs':\n",
    "    ses_id = 'ses-01'\n",
    "    # setting up names and colors\n",
    "    label_dict = {1: 'LfLs', 2: 'LfMs',\n",
    "                    3: 'LfHs', 4: 'MfLs',\n",
    "                    5: 'HfLs', 6:'rest'}\n",
    "    marker_dict = {1: '^', 2: 'X',\n",
    "                    3: 'X', 4: 'o',\n",
    "                    5: 'o', 6: 's'}\n",
    "    color_dict = {1: 'grey', 2: 'r',\n",
    "                    3: 'r', 4: 'b',\n",
    "                    5: 'b', 6: 'g'}\n",
    "elif task == 'wm':\n",
    "    ses_id = 'ses-02'\n",
    "    # setting up names and colors\n",
    "    label_dict= {1: 'Enc2F', 2: 'Ret2F',\n",
    "                3: 'Enc2B', 4: 'Ret2B',\n",
    "                5: 'Enc4F', 6: 'Ret4F',\n",
    "                7: 'Enc4B', 8: 'Ret4B',\n",
    "                9: 'Enc6F', 10: 'Ret6F',\n",
    "                11: 'Enc6B', 12: 'Ret6B',\n",
    "                13: 'rest'}\n",
    "    marker_dict = {1: 'o', 2: 'X',\n",
    "                3: 'o', 4: 'X',\n",
    "                5: 'o', 6: 'X',\n",
    "                7: 'o', 8: 'X',\n",
    "                9: 'o', 10: 'X',\n",
    "                11: 'o', 12: 'X',\n",
    "                13: 's'}\n",
    "    color_dict = {1: 'b', 2: 'b',\n",
    "                3: 'r', 4: 'r',\n",
    "                5: 'b', 6: 'b',\n",
    "                7: 'r', 8: 'r',\n",
    "                9: 'b', 10: 'b',\n",
    "                11: 'r', 12: 'r',\n",
    "                13: 'g'}"
   ]
  },
  {
   "cell_type": "code",
   "execution_count": 15,
   "metadata": {},
   "outputs": [],
   "source": [
    "# get the summary df with observed and predicted activation within cerebellar parcels\n",
    "\n",
    "## set params\n",
    "dataset = \"WMFS\"\n",
    "ses_id = ses_id\n",
    "cerebellum_roi = \"HarvardOxBg\"\n",
    "cortex = \"Icosahedron1002\"\n",
    "train_dataset = \"MDTB\"\n",
    "train_ses_id = 'ses-s1'\n",
    "method = \"L2regression\"\n",
    "type = \"CondHalf\"\n",
    "crossed = True\n",
    "mname_base = f\"{train_dataset}_{train_ses_id}_{cortex}_{method}\"#f'Fusion_all_{cortex}_L2regression'\n",
    "mname_ext = \"_A6\" # if you want to use the fused model, mname_ext will be fuse_id. Use \"_A8\" for the non-fused model\n",
    "atlas_space = 'MNIAsymBg2'\n",
    "space = 'MNI152NLin6Asym'\n",
    "# # get predicted and observed within region of interest\n",
    "\n",
    "# D = ss.get_summary_conn(dataset = \"WMFS\",\n",
    "#                     ses_id = ses_id,\n",
    "#                     subj = None,\n",
    "#                     atlas_space = atlas_space,\n",
    "#                     space = space,\n",
    "#                     cerebellum_roi = cerebellum_roi,\n",
    "#                     cerebellum_roi_selected = None,\n",
    "#                     cortex_roi = cortex,\n",
    "#                     type = type,\n",
    "#                     add_rest = True,\n",
    "#                     mname_base = mname_base,\n",
    "#                     mname_ext = mname_ext,\n",
    "#                     crossed = True)\n",
    "\n",
    "# # apply regression to get residuals\n",
    "# # this second regression is implemented because direct comparison of observed and \n",
    "# # predicted activation is not possible due to different scaling\n",
    "# D = ra.roi_regress(D, fit_intercept=True)\n",
    "\n",
    "# # # save the df\n",
    "# D.to_csv(wkdir + f'/{task}_ROI_bg_{type}_{train_dataset}_{train_ses_id}_{method}{mname_ext}_reg.tsv', sep='\\t')\n",
    "D = pd.read_csv(wkdir + f'/{task}_ROI_bg_{type}_{train_dataset}_{train_ses_id}_{method}{mname_ext}_reg.tsv', sep='\\t')"
   ]
  },
  {
   "cell_type": "code",
   "execution_count": 22,
   "metadata": {},
   "outputs": [
    {
     "name": "stdout",
     "output_type": "stream",
     "text": [
      "                  Anova\n",
      "=========================================\n",
      "          F Value  Num DF  Den DF  Pr > F\n",
      "-----------------------------------------\n",
      "cond_name  5.2136 11.0000 165.0000 0.0000\n",
      "=========================================\n",
      "\n"
     ]
    },
    {
     "name": "stderr",
     "output_type": "stream",
     "text": [
      "/Users/lshahsha/Documents/GitHub/selective_recruitment/plotting.py:87: FutureWarning: The provided callable <function mean at 0x1032be4c0> is currently using SeriesGroupBy.mean. In a future version of pandas, the provided callable will be used directly. To keep current behavior pass the string \"mean\" instead.\n",
      "  df = grouped.agg(agg_kw)\n",
      "/Users/lshahsha/Documents/GitHub/selective_recruitment/.sr-venv/lib/python3.9/site-packages/statsmodels/stats/anova.py:508: FutureWarning: The provided callable <function mean at 0x1032be4c0> is currently using SeriesGroupBy.mean. In a future version of pandas, the provided callable will be used directly. To keep current behavior pass the string \"mean\" instead.\n",
      "  self.data = (self.data\n"
     ]
    },
    {
     "data": {
      "image/png": "[encoded data removed]",
      "text/plain": [
       "<Figure size 640x480 with 1 Axes>"
      ]
     },
     "metadata": {},
     "output_type": "display_data"
    }
   ],
   "source": [
    "# get the dataframe with the selected region\n",
    "selected_roi = \"CaudateR\"\n",
    "df = D.loc[(D.roi_name == selected_roi) & (D.cond_name != 'rest')]\n",
    "make_scatterplot(df, split='cond_num',\n",
    "                labels=label_dict,\n",
    "                markers=marker_dict,\n",
    "                colors=color_dict)\n",
    "# plt.xlabel(\"predicted cerebellar activation\")\n",
    "plt.savefig(f\"fs_{selected_roi}_scatter_{mname_base}_{mname_ext}.pdf\")\n",
    "print(AnovaRM(data=df[df.cond_name != 'rest'], depvar='res',subject='sn', within=['cond_name'], aggregate_func=np.mean).fit())"
   ]
  },
  {
   "cell_type": "markdown",
   "metadata": {},
   "source": []
  },
  {
   "cell_type": "code",
   "execution_count": null,
   "metadata": {},
   "outputs": [],
   "source": [
    "df"
   ]
  },
  {
   "cell_type": "code",
   "execution_count": null,
   "metadata": {},
   "outputs": [],
   "source": []
  }
 ],
 "metadata": {
  "kernelspec": {
   "display_name": ".sr-venv",
   "language": "python",
   "name": "python3"
  },
  "language_info": {
   "codemirror_mode": {
    "name": "ipython",
    "version": 3
   },
   "file_extension": ".py",
   "mimetype": "text/x-python",
   "name": "python",
   "nbconvert_exporter": "python",
   "pygments_lexer": "ipython3",
   "version": "3.9.6"
  }
 },
 "nbformat": 4,
 "nbformat_minor": 2
}
